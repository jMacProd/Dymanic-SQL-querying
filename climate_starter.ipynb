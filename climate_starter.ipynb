{
 "cells": [
  {
   "cell_type": "markdown",
   "metadata": {},
   "source": [
    "# Honolulu, Hawaii Vacation\n",
    "Date planned: 25 May to 3 June, 2017"
   ]
  },
  {
   "cell_type": "code",
   "execution_count": 136,
   "metadata": {},
   "outputs": [],
   "source": [
    "#To draw plots inline - not zoomable\n",
    "%matplotlib inline\n",
    "\n",
    "#import style library\n",
    "from matplotlib import style\n",
    "\n",
    "#Set the style\n",
    "style.use('fivethirtyeight')\n",
    "\n",
    "# importing matplotlib module \n",
    "import matplotlib.pyplot as plt"
   ]
  },
  {
   "cell_type": "code",
   "execution_count": 250,
   "metadata": {},
   "outputs": [],
   "source": [
    "#numerical mathematics library - needed for matplotlib\n",
    "import numpy as np\n",
    "\n",
    "#Library of tools for data manipulation and analysis\n",
    "import pandas as pd\n",
    "\n",
    "#Needed for t-test\n",
    "import scipy.stats as stats"
   ]
  },
  {
   "cell_type": "code",
   "execution_count": 138,
   "metadata": {},
   "outputs": [],
   "source": [
    "#a class which allows maninpulation of the hours, minutes, seconds and milliseconds format\n",
    "    #https://www.guru99.com/date-time-and-datetime-classes-in-python.html\n",
    "import datetime as dt"
   ]
  },
  {
   "cell_type": "markdown",
   "metadata": {},
   "source": [
    "# Reflect Tables into SQLAlchemy ORM"
   ]
  },
  {
   "cell_type": "code",
   "execution_count": 139,
   "metadata": {},
   "outputs": [],
   "source": [
    "# Python SQL toolkit and Object Relational Mapper\n",
    "import sqlalchemy\n",
    "\n",
    "# automatically generates mapped classes and relationships from a database schema,\n",
    "from sqlalchemy.ext.automap import automap_base\n",
    "\n",
    "# establishes all conversations with the database and represents a “holding zone” \n",
    "from sqlalchemy.orm import Session\n",
    "\n",
    "# ability to create an engine which connects to the database\n",
    "from sqlalchemy import create_engine, func, inspect"
   ]
  },
  {
   "cell_type": "code",
   "execution_count": 140,
   "metadata": {},
   "outputs": [],
   "source": [
    "engine = create_engine(\"sqlite:///Resources/hawaii.sqlite\")"
   ]
  },
  {
   "cell_type": "code",
   "execution_count": 141,
   "metadata": {},
   "outputs": [],
   "source": [
    "# Create our session (link) from Python to the DB\n",
    "session = Session(engine)"
   ]
  },
  {
   "cell_type": "code",
   "execution_count": 142,
   "metadata": {},
   "outputs": [],
   "source": [
    "# Create the inspector and connect it to the engine\n",
    "inspector = inspect(engine)"
   ]
  },
  {
   "cell_type": "code",
   "execution_count": 143,
   "metadata": {},
   "outputs": [
    {
     "data": {
      "text/plain": [
       "['measurement', 'station']"
      ]
     },
     "execution_count": 143,
     "metadata": {},
     "output_type": "execute_result"
    }
   ],
   "source": [
    "# Collect the names of tables within the database\n",
    "inspector.get_table_names()"
   ]
  },
  {
   "cell_type": "code",
   "execution_count": 144,
   "metadata": {},
   "outputs": [
    {
     "name": "stdout",
     "output_type": "stream",
     "text": [
      "id INTEGER\n",
      "station TEXT\n",
      "date TEXT\n",
      "prcp FLOAT\n",
      "tobs FLOAT\n"
     ]
    }
   ],
   "source": [
    "# Using the inspector to print the column names within the 'measurement' table and its types\n",
    "Mcolumns = inspector.get_columns('Measurement')\n",
    "for column in Mcolumns:\n",
    "    print(column[\"name\"], column[\"type\"])"
   ]
  },
  {
   "cell_type": "code",
   "execution_count": 145,
   "metadata": {},
   "outputs": [
    {
     "name": "stdout",
     "output_type": "stream",
     "text": [
      "id INTEGER\n",
      "station TEXT\n",
      "name TEXT\n",
      "latitude FLOAT\n",
      "longitude FLOAT\n",
      "elevation FLOAT\n"
     ]
    }
   ],
   "source": [
    "# Using the inspector to print the column names within the 'station' table and its types\n",
    "Scolumns = inspector.get_columns('Station')\n",
    "for column in Scolumns:\n",
    "    print(column[\"name\"], column[\"type\"])"
   ]
  },
  {
   "cell_type": "code",
   "execution_count": 146,
   "metadata": {},
   "outputs": [],
   "source": [
    "# Listing the tables in the database\n",
    "    #https://www.chrisnicoll.net/2020/02/exploring-an-sqlite-database-from-jupyter-notebook/\n",
    "#engine.execute(\"SELECT name FROM sqlite_master WHERE type = 'table'\").fetchall()"
   ]
  },
  {
   "cell_type": "code",
   "execution_count": 147,
   "metadata": {},
   "outputs": [
    {
     "name": "stdout",
     "output_type": "stream",
     "text": [
      "(1, 'USC00519397', '2010-01-01', 0.08, 65.0)\n",
      "(2, 'USC00519397', '2010-01-02', 0.0, 63.0)\n",
      "(3, 'USC00519397', '2010-01-03', 0.0, 74.0)\n",
      "(4, 'USC00519397', '2010-01-04', 0.0, 76.0)\n",
      "(5, 'USC00519397', '2010-01-06', None, 73.0)\n"
     ]
    }
   ],
   "source": [
    "# Query Records in the the Database\n",
    "measurementcheck = engine.execute(\"SELECT * FROM measurement LIMIT 5\")\n",
    "\n",
    "for record in measurementcheck:\n",
    "    print(record)"
   ]
  },
  {
   "cell_type": "code",
   "execution_count": 148,
   "metadata": {},
   "outputs": [
    {
     "name": "stdout",
     "output_type": "stream",
     "text": [
      "(1, 'USC00519397', 'WAIKIKI 717.2, HI US', 21.2716, -157.8168, 3.0)\n",
      "(2, 'USC00513117', 'KANEOHE 838.1, HI US', 21.4234, -157.8015, 14.6)\n",
      "(3, 'USC00514830', 'KUALOA RANCH HEADQUARTERS 886.9, HI US', 21.5213, -157.8374, 7.0)\n",
      "(4, 'USC00517948', 'PEARL CITY, HI US', 21.3934, -157.9751, 11.9)\n",
      "(5, 'USC00518838', 'UPPER WAHIAWA 874.3, HI US', 21.4992, -158.0111, 306.6)\n"
     ]
    }
   ],
   "source": [
    "stationcheck = engine.execute(\"SELECT * FROM station LIMIT 5\")\n",
    "\n",
    "for record in stationcheck:\n",
    "    print(record)"
   ]
  },
  {
   "cell_type": "code",
   "execution_count": 149,
   "metadata": {},
   "outputs": [],
   "source": [
    "#Create measurement dataframe using SQL query\n",
    "#conn = engine.connect()\n",
    "#measurement_df= pd.read_sql(\"SELECT * FROM measurement\", conn)\n",
    "#measurement_df.head()"
   ]
  },
  {
   "cell_type": "code",
   "execution_count": 150,
   "metadata": {},
   "outputs": [],
   "source": [
    "#Create station dataframe using SQL query\n",
    "#station_df= pd.read_sql(\"SELECT * FROM station\", conn)\n",
    "#station_df.head()"
   ]
  },
  {
   "cell_type": "code",
   "execution_count": 151,
   "metadata": {},
   "outputs": [],
   "source": [
    "# reflect an existing database into a new model\n",
    "    ## Declare a Base using `automap_base()`\n",
    "Base = automap_base()"
   ]
  },
  {
   "cell_type": "code",
   "execution_count": 152,
   "metadata": {},
   "outputs": [],
   "source": [
    "# reflect the tables\n",
    "Base.prepare(engine, reflect=True)"
   ]
  },
  {
   "cell_type": "code",
   "execution_count": 153,
   "metadata": {},
   "outputs": [
    {
     "data": {
      "text/plain": [
       "['measurement', 'station']"
      ]
     },
     "execution_count": 153,
     "metadata": {},
     "output_type": "execute_result"
    }
   ],
   "source": [
    "# We can view all of the classes that automap found\n",
    "    # Print all of the classes mapped to the Base\n",
    "Base.classes.keys()"
   ]
  },
  {
   "cell_type": "code",
   "execution_count": 154,
   "metadata": {},
   "outputs": [],
   "source": [
    "# Save references to each table\n",
    "    # Assign the measurement class to a variable called `Measurement`\n",
    "Measurement = Base.classes.measurement\n",
    "Station = Base.classes.station"
   ]
  },
  {
   "cell_type": "code",
   "execution_count": 155,
   "metadata": {},
   "outputs": [],
   "source": [
    "# To check data -  Display the Measurement row's columns and data in dictionary format\n",
    "#Mfirst_row = session.query(Measurement).first()\n",
    "#Mfirst_row.__dict__"
   ]
  },
  {
   "cell_type": "code",
   "execution_count": 156,
   "metadata": {},
   "outputs": [],
   "source": [
    "# Display the Station row's columns and data in dictionary format\n",
    "#Sfirst_row = session.query(Station).first()\n",
    "#Sfirst_row.__dict__"
   ]
  },
  {
   "cell_type": "markdown",
   "metadata": {},
   "source": [
    "# Exploratory Climate Analysis"
   ]
  },
  {
   "cell_type": "markdown",
   "metadata": {},
   "source": [
    "It’s possible to query a database using more SQL:\n",
    "\n",
    "data = engine.execute(\"SELECT date, prcp FROM BaseballPlayer\")\n",
    "\n",
    "or more Python:\n",
    "\n",
    "players = session.query(BaseballPlayer)\n",
    "\n",
    "for player in players:\n",
    "\n",
    "print(player.name_given)"
   ]
  },
  {
   "cell_type": "code",
   "execution_count": 157,
   "metadata": {},
   "outputs": [],
   "source": [
    "# Design a query to retrieve the last 12 months of precipitation data and plot the results\n",
    "\n",
    "    # Calculate the date 1 year ago from the last data point in the database\n",
    "        #https://www.sqlshack.com/dateadd-sql-function-introduction-and-overview/\n",
    "        #https://www.listendata.com/2019/07/how-to-use-datetime-in-python.html#How-to-convert-a-string-to-datetime-in-python-"
   ]
  },
  {
   "cell_type": "code",
   "execution_count": 158,
   "metadata": {},
   "outputs": [
    {
     "name": "stdout",
     "output_type": "stream",
     "text": [
      "('2010-01-01',)\n"
     ]
    }
   ],
   "source": [
    "# Earliest Date\n",
    "firstdatex = session.query(Measurement.date).order_by(Measurement.date.asc()).first()\n",
    "print(firstdatex)"
   ]
  },
  {
   "cell_type": "code",
   "execution_count": 159,
   "metadata": {},
   "outputs": [
    {
     "name": "stdout",
     "output_type": "stream",
     "text": [
      "('2017-08-23',)\n"
     ]
    }
   ],
   "source": [
    "# Latest Date\n",
    "lastdatex = session.query(Measurement.date).order_by(Measurement.date.desc()).first()\n",
    "print(lastdatex)"
   ]
  },
  {
   "cell_type": "code",
   "execution_count": 160,
   "metadata": {},
   "outputs": [],
   "source": [
    "## To enable month and year calculations\n",
    "#from dateutil.relativedelta import *"
   ]
  },
  {
   "cell_type": "code",
   "execution_count": 161,
   "metadata": {},
   "outputs": [
    {
     "name": "stdout",
     "output_type": "stream",
     "text": [
      "2016-08-23\n"
     ]
    }
   ],
   "source": [
    "# date 1 year ago from lastdatex\n",
    "year_ago = dt.date(2017,8,23) - dt.timedelta(days=365)\n",
    "print(year_ago)"
   ]
  },
  {
   "cell_type": "code",
   "execution_count": 162,
   "metadata": {},
   "outputs": [],
   "source": [
    "# Design a query to retrieve the last 12 months of precipitation data and plot the results\n",
    "#lastdate = engine.execute('SELECT MAX(date)FROM Measurement').fetchall()\n",
    "#lastdate"
   ]
  },
  {
   "cell_type": "code",
   "execution_count": 163,
   "metadata": {},
   "outputs": [],
   "source": [
    "#lastyear  = (lastdatex - relativedelta(years=1))\n",
    "#print(f\"The date one year before the last data point is {lastyear}\")\n",
    "\n",
    "#lastyear  = (lastdatedt - relativedelta(years=1)).strftime(\"%d/%m/%Y\")\n",
    "#print(f\"The date one year before the last data point is {lastyear}\")"
   ]
  },
  {
   "cell_type": "code",
   "execution_count": 164,
   "metadata": {},
   "outputs": [],
   "source": [
    "    #Find last date in table\n",
    "#lastdate = engine.execute('SELECT MAX(date)FROM Measurement').fetchall()\n",
    "#lastdatedt = dt.date(2017, 8, 23)\n",
    "#lastdatedtStr = lastdatedt.strftime(\"%d/%m/%Y\")\n",
    "#print(f\"The latest date in the data provided is {lastdatedtStr}\")"
   ]
  },
  {
   "cell_type": "code",
   "execution_count": 165,
   "metadata": {},
   "outputs": [],
   "source": [
    "#testubg datetime (dt)\n",
    "#dt.date.today()"
   ]
  },
  {
   "cell_type": "code",
   "execution_count": 166,
   "metadata": {},
   "outputs": [],
   "source": [
    "#date = lastdate[0]\n",
    "#date"
   ]
  },
  {
   "cell_type": "code",
   "execution_count": 167,
   "metadata": {},
   "outputs": [],
   "source": [
    "#Convert lastdate to datetime(dt)\n",
    "#x = pd.to_datetime(date, format = '%Y-%m-%d')\n",
    "#print(x)\n",
    "\n",
    "#y = x.strftime(\"%d-%m-%Y\")\n",
    "#print(y)\n"
   ]
  },
  {
   "cell_type": "code",
   "execution_count": 168,
   "metadata": {},
   "outputs": [],
   "source": [
    "#x.year"
   ]
  },
  {
   "cell_type": "code",
   "execution_count": 169,
   "metadata": {},
   "outputs": [],
   "source": [
    "#The date 1 year ago\n",
    "    #https://www.listendata.com/2019/07/how-to-use-datetime-in-python.html#How-to-convert-a-string-to-datetime-in-python-\n",
    "    #prev_year_date  = dt.date(2017, 8, 23) - dt.timedelta(days=365)\n",
    "#lastyear  = (lastdatedt - relativedelta(years=1)).strftime(\"%d/%m/%Y\")\n",
    "#print(f\"The date one year before the last data point is {lastyear}\")\n",
    "\n",
    "\n",
    "\n",
    "#y + relativedelta(years=-1)\n",
    "#dtime = dt.date(2019, 10, 20)"
   ]
  },
  {
   "cell_type": "code",
   "execution_count": 170,
   "metadata": {},
   "outputs": [],
   "source": [
    "# Calculate the date 1 year ago from the last data point in the database\n",
    "    #https://www.sqlshack.com/dateadd-sql-function-introduction-and-overview/\n",
    "    #https://www.listendata.com/2019/07/how-to-use-datetime-in-python.html#How-to-convert-a-string-to-datetime-in-python-\n",
    "\n",
    "#30days ahead\n",
    "#delta = dt.timedelta(days=30)\n",
    "#print(x + delta)\n",
    "\n",
    "#1 Month ahead\n",
    "#print(x + relativedelta(months=+1))\n",
    "\n",
    "\n",
    "#yearago = engine.execute('SELECT DATEADD(YY,-3, '2017-08-23'')\n",
    "\n",
    "#365 days abck\n",
    "#delta = dt.timedelta(days=-365)\n",
    "#print(x + delta)\n",
    "\n"
   ]
  },
  {
   "cell_type": "code",
   "execution_count": 171,
   "metadata": {},
   "outputs": [],
   "source": [
    "# Perform a query to retrieve the data and precipitation scores\n",
    "#SQL query - Select only the `date` and `prcp` values.\n",
    "\n",
    "#prcp = engine.execute(\"\"\"SELECT date, prcp FROM Measurement\n",
    "#                     WHERE date between '2016-08-23' AND '2017-08-23'\n",
    "#                     \"\"\").fetchall()\n",
    "#len(prcp)"
   ]
  },
  {
   "cell_type": "code",
   "execution_count": 172,
   "metadata": {},
   "outputs": [
    {
     "data": {
      "text/plain": [
       "[('2016-08-23', 0.0),\n",
       " ('2016-08-24', 0.08),\n",
       " ('2016-08-25', 0.08),\n",
       " ('2016-08-26', 0.0),\n",
       " ('2016-08-27', 0.0),\n",
       " ('2016-08-28', 0.01),\n",
       " ('2016-08-29', 0.0),\n",
       " ('2016-08-30', 0.0),\n",
       " ('2016-08-31', 0.13),\n",
       " ('2016-09-01', 0.0)]"
      ]
     },
     "execution_count": 172,
     "metadata": {},
     "output_type": "execute_result"
    }
   ],
   "source": [
    "# Perform a query to retrieve the data and precipitation scores\n",
    "#Pandas query - Select only the `date` and `prcp` values.\n",
    "\n",
    "        #results = session.query(Measurement.date, Measurement.prcp).\\\n",
    "        #    order_by(Emoji.score.desc()).all())\n",
    "        # Had to remove the .all() for dataframe to work\n",
    "\n",
    "precip = session.query(Measurement.date, Measurement.prcp).filter(Measurement.date >= '2016-08-23').\\\n",
    "        filter(Measurement.date <= '2017-08-23')\n",
    "\n",
    "precip[:10]"
   ]
  },
  {
   "cell_type": "code",
   "execution_count": 173,
   "metadata": {},
   "outputs": [
    {
     "data": {
      "text/html": [
       "<div>\n",
       "<style scoped>\n",
       "    .dataframe tbody tr th:only-of-type {\n",
       "        vertical-align: middle;\n",
       "    }\n",
       "\n",
       "    .dataframe tbody tr th {\n",
       "        vertical-align: top;\n",
       "    }\n",
       "\n",
       "    .dataframe thead th {\n",
       "        text-align: right;\n",
       "    }\n",
       "</style>\n",
       "<table border=\"1\" class=\"dataframe\">\n",
       "  <thead>\n",
       "    <tr style=\"text-align: right;\">\n",
       "      <th></th>\n",
       "      <th>Date</th>\n",
       "      <th>Precipitation</th>\n",
       "    </tr>\n",
       "  </thead>\n",
       "  <tbody>\n",
       "    <tr>\n",
       "      <th>0</th>\n",
       "      <td>2016-08-23</td>\n",
       "      <td>0.00</td>\n",
       "    </tr>\n",
       "    <tr>\n",
       "      <th>1</th>\n",
       "      <td>2016-08-24</td>\n",
       "      <td>0.08</td>\n",
       "    </tr>\n",
       "    <tr>\n",
       "      <th>2</th>\n",
       "      <td>2016-08-25</td>\n",
       "      <td>0.08</td>\n",
       "    </tr>\n",
       "    <tr>\n",
       "      <th>3</th>\n",
       "      <td>2016-08-26</td>\n",
       "      <td>0.00</td>\n",
       "    </tr>\n",
       "    <tr>\n",
       "      <th>4</th>\n",
       "      <td>2016-08-27</td>\n",
       "      <td>0.00</td>\n",
       "    </tr>\n",
       "    <tr>\n",
       "      <th>...</th>\n",
       "      <td>...</td>\n",
       "      <td>...</td>\n",
       "    </tr>\n",
       "    <tr>\n",
       "      <th>2225</th>\n",
       "      <td>2017-08-19</td>\n",
       "      <td>0.09</td>\n",
       "    </tr>\n",
       "    <tr>\n",
       "      <th>2226</th>\n",
       "      <td>2017-08-20</td>\n",
       "      <td>NaN</td>\n",
       "    </tr>\n",
       "    <tr>\n",
       "      <th>2227</th>\n",
       "      <td>2017-08-21</td>\n",
       "      <td>0.56</td>\n",
       "    </tr>\n",
       "    <tr>\n",
       "      <th>2228</th>\n",
       "      <td>2017-08-22</td>\n",
       "      <td>0.50</td>\n",
       "    </tr>\n",
       "    <tr>\n",
       "      <th>2229</th>\n",
       "      <td>2017-08-23</td>\n",
       "      <td>0.45</td>\n",
       "    </tr>\n",
       "  </tbody>\n",
       "</table>\n",
       "<p>2230 rows × 2 columns</p>\n",
       "</div>"
      ],
      "text/plain": [
       "            Date  Precipitation\n",
       "0     2016-08-23           0.00\n",
       "1     2016-08-24           0.08\n",
       "2     2016-08-25           0.08\n",
       "3     2016-08-26           0.00\n",
       "4     2016-08-27           0.00\n",
       "...          ...            ...\n",
       "2225  2017-08-19           0.09\n",
       "2226  2017-08-20            NaN\n",
       "2227  2017-08-21           0.56\n",
       "2228  2017-08-22           0.50\n",
       "2229  2017-08-23           0.45\n",
       "\n",
       "[2230 rows x 2 columns]"
      ]
     },
     "execution_count": 173,
     "metadata": {},
     "output_type": "execute_result"
    }
   ],
   "source": [
    "# Save the query results as a Pandas DataFrame and set the index to the date column\n",
    "#https://stackoverflow.com/questions/29525808/sqlalchemy-orm-conversion-to-pandas-dataframe/36257640\n",
    "#pd.read_sql(session.query(Complaint).filter(Complaint.id == 2).statement,session.bind) \n",
    "precip_df = pd.read_sql(precip.statement,session.bind).rename(columns={\"date\":\"Date\", \"prcp\":\"Precipitation\"})\n",
    "\n",
    "precip_df"
   ]
  },
  {
   "cell_type": "code",
   "execution_count": 174,
   "metadata": {},
   "outputs": [
    {
     "data": {
      "text/html": [
       "<div>\n",
       "<style scoped>\n",
       "    .dataframe tbody tr th:only-of-type {\n",
       "        vertical-align: middle;\n",
       "    }\n",
       "\n",
       "    .dataframe tbody tr th {\n",
       "        vertical-align: top;\n",
       "    }\n",
       "\n",
       "    .dataframe thead th {\n",
       "        text-align: right;\n",
       "    }\n",
       "</style>\n",
       "<table border=\"1\" class=\"dataframe\">\n",
       "  <thead>\n",
       "    <tr style=\"text-align: right;\">\n",
       "      <th></th>\n",
       "      <th>Precipitation</th>\n",
       "    </tr>\n",
       "    <tr>\n",
       "      <th>Date</th>\n",
       "      <th></th>\n",
       "    </tr>\n",
       "  </thead>\n",
       "  <tbody>\n",
       "    <tr>\n",
       "      <th>2016-08-23</th>\n",
       "      <td>0.00</td>\n",
       "    </tr>\n",
       "    <tr>\n",
       "      <th>2016-08-24</th>\n",
       "      <td>0.08</td>\n",
       "    </tr>\n",
       "    <tr>\n",
       "      <th>2016-08-25</th>\n",
       "      <td>0.08</td>\n",
       "    </tr>\n",
       "    <tr>\n",
       "      <th>2016-08-26</th>\n",
       "      <td>0.00</td>\n",
       "    </tr>\n",
       "    <tr>\n",
       "      <th>2016-08-27</th>\n",
       "      <td>0.00</td>\n",
       "    </tr>\n",
       "    <tr>\n",
       "      <th>...</th>\n",
       "      <td>...</td>\n",
       "    </tr>\n",
       "    <tr>\n",
       "      <th>2017-08-19</th>\n",
       "      <td>0.09</td>\n",
       "    </tr>\n",
       "    <tr>\n",
       "      <th>2017-08-20</th>\n",
       "      <td>NaN</td>\n",
       "    </tr>\n",
       "    <tr>\n",
       "      <th>2017-08-21</th>\n",
       "      <td>0.56</td>\n",
       "    </tr>\n",
       "    <tr>\n",
       "      <th>2017-08-22</th>\n",
       "      <td>0.50</td>\n",
       "    </tr>\n",
       "    <tr>\n",
       "      <th>2017-08-23</th>\n",
       "      <td>0.45</td>\n",
       "    </tr>\n",
       "  </tbody>\n",
       "</table>\n",
       "<p>2230 rows × 1 columns</p>\n",
       "</div>"
      ],
      "text/plain": [
       "            Precipitation\n",
       "Date                     \n",
       "2016-08-23           0.00\n",
       "2016-08-24           0.08\n",
       "2016-08-25           0.08\n",
       "2016-08-26           0.00\n",
       "2016-08-27           0.00\n",
       "...                   ...\n",
       "2017-08-19           0.09\n",
       "2017-08-20            NaN\n",
       "2017-08-21           0.56\n",
       "2017-08-22           0.50\n",
       "2017-08-23           0.45\n",
       "\n",
       "[2230 rows x 1 columns]"
      ]
     },
     "execution_count": 174,
     "metadata": {},
     "output_type": "execute_result"
    }
   ],
   "source": [
    "#set the index to the date column\n",
    "precipdate = precip_df.set_index(\"Date\")\n",
    "precipdate"
   ]
  },
  {
   "cell_type": "code",
   "execution_count": 175,
   "metadata": {},
   "outputs": [],
   "source": [
    "# Save the query results as a Pandas DataFrame and set the index to the date column\n",
    "#prcp_df = pd.read_sql(\"\"\"SELECT date AS Date, prcp As Precipitation FROM Measurement\n",
    "#                     WHERE date between '2016-08-23' AND '2017-08-23'\n",
    "#                     \"\"\", conn)\n",
    "#prcp_df"
   ]
  },
  {
   "cell_type": "code",
   "execution_count": 176,
   "metadata": {},
   "outputs": [
    {
     "data": {
      "text/html": [
       "<div>\n",
       "<style scoped>\n",
       "    .dataframe tbody tr th:only-of-type {\n",
       "        vertical-align: middle;\n",
       "    }\n",
       "\n",
       "    .dataframe tbody tr th {\n",
       "        vertical-align: top;\n",
       "    }\n",
       "\n",
       "    .dataframe thead th {\n",
       "        text-align: right;\n",
       "    }\n",
       "</style>\n",
       "<table border=\"1\" class=\"dataframe\">\n",
       "  <thead>\n",
       "    <tr style=\"text-align: right;\">\n",
       "      <th></th>\n",
       "      <th>Precipitation</th>\n",
       "    </tr>\n",
       "    <tr>\n",
       "      <th>Date</th>\n",
       "      <th></th>\n",
       "    </tr>\n",
       "  </thead>\n",
       "  <tbody>\n",
       "    <tr>\n",
       "      <th>2016-08-23</th>\n",
       "      <td>0.00</td>\n",
       "    </tr>\n",
       "    <tr>\n",
       "      <th>2016-08-23</th>\n",
       "      <td>NaN</td>\n",
       "    </tr>\n",
       "    <tr>\n",
       "      <th>2016-08-23</th>\n",
       "      <td>1.79</td>\n",
       "    </tr>\n",
       "    <tr>\n",
       "      <th>2016-08-23</th>\n",
       "      <td>0.05</td>\n",
       "    </tr>\n",
       "    <tr>\n",
       "      <th>2016-08-23</th>\n",
       "      <td>0.15</td>\n",
       "    </tr>\n",
       "    <tr>\n",
       "      <th>...</th>\n",
       "      <td>...</td>\n",
       "    </tr>\n",
       "    <tr>\n",
       "      <th>2017-08-22</th>\n",
       "      <td>0.00</td>\n",
       "    </tr>\n",
       "    <tr>\n",
       "      <th>2017-08-23</th>\n",
       "      <td>0.00</td>\n",
       "    </tr>\n",
       "    <tr>\n",
       "      <th>2017-08-23</th>\n",
       "      <td>0.00</td>\n",
       "    </tr>\n",
       "    <tr>\n",
       "      <th>2017-08-23</th>\n",
       "      <td>0.08</td>\n",
       "    </tr>\n",
       "    <tr>\n",
       "      <th>2017-08-23</th>\n",
       "      <td>0.45</td>\n",
       "    </tr>\n",
       "  </tbody>\n",
       "</table>\n",
       "<p>2230 rows × 1 columns</p>\n",
       "</div>"
      ],
      "text/plain": [
       "            Precipitation\n",
       "Date                     \n",
       "2016-08-23           0.00\n",
       "2016-08-23            NaN\n",
       "2016-08-23           1.79\n",
       "2016-08-23           0.05\n",
       "2016-08-23           0.15\n",
       "...                   ...\n",
       "2017-08-22           0.00\n",
       "2017-08-23           0.00\n",
       "2017-08-23           0.00\n",
       "2017-08-23           0.08\n",
       "2017-08-23           0.45\n",
       "\n",
       "[2230 rows x 1 columns]"
      ]
     },
     "execution_count": 176,
     "metadata": {},
     "output_type": "execute_result"
    }
   ],
   "source": [
    "# Sort the dataframe by date\n",
    "precipdate = precipdate.sort_index()\n",
    "precipdate"
   ]
  },
  {
   "cell_type": "code",
   "execution_count": 177,
   "metadata": {},
   "outputs": [],
   "source": [
    "# Use Pandas Plotting with Matplotlib to plot the data\n",
    "    #Jupyter has a nice feature that automatically converts long outputs into a box with a scrollbar. \n",
    "    #Unfortunately many times you don’t actually want it, especially when you want to compare several plots.\n",
    "    #One way to disable the feature is to put the following in a separate cell\n",
    "    #and run it before you run the cell that generates long output\n",
    "    #https://medium.com/@1522933668924/using-matplotlib-in-jupyter-notebooks-comparing-methods-and-some-tips-python-c38e85b40ba1\n",
    "#%%javascript\n",
    "#IPython.OutputArea.prototype._should_scroll = function(lines) {\n",
    "#    return false;\n",
    "#}"
   ]
  },
  {
   "cell_type": "code",
   "execution_count": 178,
   "metadata": {
    "scrolled": false
   },
   "outputs": [
    {
     "data": {
      "image/png": "[encoded data removed]",
      "text/plain": [
       "<Figure size 864x432 with 1 Axes>"
      ]
     },
     "metadata": {},
     "output_type": "display_data"
    }
   ],
   "source": [
    "# Use Pandas Plotting with Matplotlib to plot the data\n",
    "\n",
    "precipdate.plot(figsize=(12,6))\n",
    "#plt.legend([\"Precipitation\"]);\n",
    "plt.xticks(rotation=90)\n",
    "#plt.xlabel(\"Date\")\n",
    "plt.ylabel(\"Inches\")\n",
    "\n",
    "plt.show()"
   ]
  },
  {
   "cell_type": "code",
   "execution_count": 179,
   "metadata": {
    "scrolled": true
   },
   "outputs": [
    {
     "data": {
      "text/html": [
       "<div>\n",
       "<style scoped>\n",
       "    .dataframe tbody tr th:only-of-type {\n",
       "        vertical-align: middle;\n",
       "    }\n",
       "\n",
       "    .dataframe tbody tr th {\n",
       "        vertical-align: top;\n",
       "    }\n",
       "\n",
       "    .dataframe thead th {\n",
       "        text-align: right;\n",
       "    }\n",
       "</style>\n",
       "<table border=\"1\" class=\"dataframe\">\n",
       "  <thead>\n",
       "    <tr style=\"text-align: right;\">\n",
       "      <th></th>\n",
       "      <th>Precipitation</th>\n",
       "    </tr>\n",
       "  </thead>\n",
       "  <tbody>\n",
       "    <tr>\n",
       "      <th>count</th>\n",
       "      <td>2021.000000</td>\n",
       "    </tr>\n",
       "    <tr>\n",
       "      <th>mean</th>\n",
       "      <td>0.177279</td>\n",
       "    </tr>\n",
       "    <tr>\n",
       "      <th>std</th>\n",
       "      <td>0.461190</td>\n",
       "    </tr>\n",
       "    <tr>\n",
       "      <th>min</th>\n",
       "      <td>0.000000</td>\n",
       "    </tr>\n",
       "    <tr>\n",
       "      <th>25%</th>\n",
       "      <td>0.000000</td>\n",
       "    </tr>\n",
       "    <tr>\n",
       "      <th>50%</th>\n",
       "      <td>0.020000</td>\n",
       "    </tr>\n",
       "    <tr>\n",
       "      <th>75%</th>\n",
       "      <td>0.130000</td>\n",
       "    </tr>\n",
       "    <tr>\n",
       "      <th>max</th>\n",
       "      <td>6.700000</td>\n",
       "    </tr>\n",
       "  </tbody>\n",
       "</table>\n",
       "</div>"
      ],
      "text/plain": [
       "       Precipitation\n",
       "count    2021.000000\n",
       "mean        0.177279\n",
       "std         0.461190\n",
       "min         0.000000\n",
       "25%         0.000000\n",
       "50%         0.020000\n",
       "75%         0.130000\n",
       "max         6.700000"
      ]
     },
     "execution_count": 179,
     "metadata": {},
     "output_type": "execute_result"
    }
   ],
   "source": [
    "# Use Pandas to calcualte the summary statistics for the precipitation data\n",
    "precipdate.describe()"
   ]
  },
  {
   "cell_type": "markdown",
   "metadata": {},
   "source": [
    "# Station Analysis"
   ]
  },
  {
   "cell_type": "code",
   "execution_count": 180,
   "metadata": {},
   "outputs": [
    {
     "name": "stdout",
     "output_type": "stream",
     "text": [
      "9\n"
     ]
    }
   ],
   "source": [
    "#Check total count of station rows\n",
    "\n",
    "print(session.query(Station.station).count())"
   ]
  },
  {
   "cell_type": "code",
   "execution_count": 181,
   "metadata": {},
   "outputs": [
    {
     "name": "stdout",
     "output_type": "stream",
     "text": [
      "[(9,)]\n"
     ]
    }
   ],
   "source": [
    "# Design a query to show how many stations are available in this dataset?\n",
    "    #https://docs.sqlalchemy.org/en/13/orm/query.html\n",
    "    #session.query(func.count(distinct(User.name)))\n",
    "\n",
    "# count distinct \"name\" values\n",
    "from sqlalchemy import distinct\n",
    "\n",
    "stationcount = session.query(func.count(distinct(Station.station))).all()\n",
    "print(stationcount)"
   ]
  },
  {
   "cell_type": "code",
   "execution_count": 182,
   "metadata": {},
   "outputs": [],
   "source": [
    "# What are the most active stations? (i.e. what stations have the most rows)?\n"
   ]
  },
  {
   "cell_type": "code",
   "execution_count": 183,
   "metadata": {},
   "outputs": [
    {
     "data": {
      "text/plain": [
       "19550"
      ]
     },
     "execution_count": 183,
     "metadata": {},
     "output_type": "execute_result"
    }
   ],
   "source": [
    "#TEST counting all rows    \n",
    "session.query(Measurement.station).count()"
   ]
  },
  {
   "cell_type": "code",
   "execution_count": 184,
   "metadata": {},
   "outputs": [],
   "source": [
    "#TEST Joining\n",
    "\n",
    "#join tables using station\n",
    "\n",
    "    # This JOINs the data in the two tables together into a single dataset (here in the form of a tuple)\n",
    "#joina = [Measurement.station, Station.station, Station.name, Measurement.date]\n",
    "#joinaquery = session.query(*joina).filter(Measurement.station == Station.station).all()\n",
    "#test data\n",
    "#print(len(joinaquery))\n",
    "#joinaquery[:15]\n",
    "\n",
    "\n",
    "#sel = [EA.family, EA.genus, EA.species, NA.family, NA.genus, NA.species]\n",
    "#same_sporder = session.query(*sel).filter(EA.sporder == NA.sporder).limit(10).all()\n",
    "\n",
    "#for record in same_sporder:\n",
    "#    (ea_fam, ea_gen, ea_spec, na_fam, na_gen, na_spec) = record\n",
    "#    print(\n",
    "#        f\"The European animal '{ea_fam} {ea_gen} {ea_spec}'\"\n",
    "#        f\"belongs to the same sporder as the North American animal '{na_fam} {na_gen} {na_spec}'.\")"
   ]
  },
  {
   "cell_type": "code",
   "execution_count": 185,
   "metadata": {},
   "outputs": [],
   "source": [
    "    #groupby station\n",
    "    #count by station\n",
    "\n",
    "#uniquecount = session.query(*joina, func.count(Measurement.station)).filter(Measurement.station == Station.station).group_by(Measurement.station).all()\n",
    "#uniquecount\n",
    "\n",
    "#session.query(Table.column, func.count(Table.column)).group_by(Table.column).all()\n",
    "\n"
   ]
  },
  {
   "cell_type": "code",
   "execution_count": 186,
   "metadata": {},
   "outputs": [],
   "source": [
    "   #sortby count (Descending)\n",
    "\n",
    "#uniquecountorder = session.query(*joina, func.count(Measurement.station)).filter(Measurement.station == Station.station).group_by(Measurement.station).order_by(func.count(Measurement.station)).all()\n",
    "\n",
    "#order_by(Emoji.score.desc()).all()\n",
    "#uniquecountorder"
   ]
  },
  {
   "cell_type": "code",
   "execution_count": 187,
   "metadata": {},
   "outputs": [],
   "source": [
    "#--------------"
   ]
  },
  {
   "cell_type": "code",
   "execution_count": 188,
   "metadata": {},
   "outputs": [
    {
     "name": "stdout",
     "output_type": "stream",
     "text": [
      "19550\n"
     ]
    },
    {
     "data": {
      "text/plain": [
       "[('USC00519397', 'WAIKIKI 717.2, HI US'),\n",
       " ('USC00519397', 'WAIKIKI 717.2, HI US'),\n",
       " ('USC00519397', 'WAIKIKI 717.2, HI US'),\n",
       " ('USC00519397', 'WAIKIKI 717.2, HI US'),\n",
       " ('USC00519397', 'WAIKIKI 717.2, HI US'),\n",
       " ('USC00519397', 'WAIKIKI 717.2, HI US'),\n",
       " ('USC00519397', 'WAIKIKI 717.2, HI US'),\n",
       " ('USC00519397', 'WAIKIKI 717.2, HI US'),\n",
       " ('USC00519397', 'WAIKIKI 717.2, HI US'),\n",
       " ('USC00519397', 'WAIKIKI 717.2, HI US'),\n",
       " ('USC00519397', 'WAIKIKI 717.2, HI US'),\n",
       " ('USC00519397', 'WAIKIKI 717.2, HI US'),\n",
       " ('USC00519397', 'WAIKIKI 717.2, HI US'),\n",
       " ('USC00519397', 'WAIKIKI 717.2, HI US'),\n",
       " ('USC00519397', 'WAIKIKI 717.2, HI US')]"
      ]
     },
     "execution_count": 188,
     "metadata": {},
     "output_type": "execute_result"
    }
   ],
   "source": [
    "    #join tables using station - Need columns M.station and S.name as I want to idenitfy the station name\n",
    "\n",
    "    # This joins the data in the two tables together into a single dataset (here in the form of a tuple)\n",
    "    #This actually creates a list of each row in table A for each row in table B\n",
    "station_name = [Measurement.station, Station.name]\n",
    "\n",
    "    #This base query then reduces the above list to inlcude only rows were the filter is true\n",
    "stationnamejoin = session.query(*station_name).filter(Measurement.station == Station.station).all()\n",
    "\n",
    "    #test data to see if matches counting all rows and elevant values\n",
    "print(len(stationnamejoin))\n",
    "stationnamejoin[:15]\n",
    "\n",
    "    #Sample code\n",
    "    #sel = [EA.family, EA.genus, EA.species, NA.family, NA.genus, NA.species]\n",
    "    #same_sporder = session.query(*sel).filter(EA.sporder == NA.sporder).limit(10).all()\n",
    "\n",
    "    #for record in same_sporder:\n",
    "    #    (ea_fam, ea_gen, ea_spec, na_fam, na_gen, na_spec) = record\n",
    "    #    print(\n",
    "    #        f\"The European animal '{ea_fam} {ea_gen} {ea_spec}'\"\n",
    "    #        f\"belongs to the same sporder as the North American animal '{na_fam} {na_gen} {na_spec}'.\")"
   ]
  },
  {
   "cell_type": "code",
   "execution_count": 189,
   "metadata": {},
   "outputs": [
    {
     "data": {
      "text/plain": [
       "19550"
      ]
     },
     "execution_count": 189,
     "metadata": {},
     "output_type": "execute_result"
    }
   ],
   "source": [
    "    #Trialling building on query to count all rows - gives total does not include row\n",
    "stationnamecount = session.query(*station_name).filter(Measurement.station == Station.station).count()\n",
    "stationnamecount"
   ]
  },
  {
   "cell_type": "code",
   "execution_count": 190,
   "metadata": {},
   "outputs": [
    {
     "data": {
      "text/plain": [
       "[('USC00519397', 'WAIKIKI 717.2, HI US', 19550)]"
      ]
     },
     "execution_count": 190,
     "metadata": {},
     "output_type": "execute_result"
    }
   ],
   "source": [
    "    #count by station\n",
    "    #Trailling building on to use func.count all - includes row with total count\n",
    "stationnametotal = session.query(*station_name, func.count(Measurement.station))\\\n",
    ".filter(Measurement.station == Station.station).all()\n",
    "stationnametotal"
   ]
  },
  {
   "cell_type": "code",
   "execution_count": 191,
   "metadata": {},
   "outputs": [
    {
     "data": {
      "text/plain": [
       "[('USC00511918', 'HONOLULU OBSERVATORY 702.2, HI US', 1979),\n",
       " ('USC00513117', 'KANEOHE 838.1, HI US', 2709),\n",
       " ('USC00514830', 'KUALOA RANCH HEADQUARTERS 886.9, HI US', 2202),\n",
       " ('USC00516128', 'MANOA LYON ARBO 785.2, HI US', 2612),\n",
       " ('USC00517948', 'PEARL CITY, HI US', 1372),\n",
       " ('USC00518838', 'UPPER WAHIAWA 874.3, HI US', 511),\n",
       " ('USC00519281', 'WAIHEE 837.5, HI US', 2772),\n",
       " ('USC00519397', 'WAIKIKI 717.2, HI US', 2724),\n",
       " ('USC00519523', 'WAIMANALO EXPERIMENTAL FARM, HI US', 2669)]"
      ]
     },
     "execution_count": 191,
     "metadata": {},
     "output_type": "execute_result"
    }
   ],
   "source": [
    "    #groupby station - to get totals for each station\n",
    "    #Sample code\n",
    "    #session.query(Table.column, func.count(Table.column)).group_by(Table.column).all()\n",
    "\n",
    "\n",
    "stationnameuniquecount = session.query(*station_name, func.count(Measurement.station))\\\n",
    ".filter(Measurement.station == Station.station)\\\n",
    ".group_by(Measurement.station).all()\n",
    "\n",
    "stationnameuniquecount"
   ]
  },
  {
   "cell_type": "code",
   "execution_count": 192,
   "metadata": {},
   "outputs": [
    {
     "data": {
      "text/plain": [
       "[('USC00519281', 'WAIHEE 837.5, HI US', 2772),\n",
       " ('USC00519397', 'WAIKIKI 717.2, HI US', 2724),\n",
       " ('USC00513117', 'KANEOHE 838.1, HI US', 2709),\n",
       " ('USC00519523', 'WAIMANALO EXPERIMENTAL FARM, HI US', 2669),\n",
       " ('USC00516128', 'MANOA LYON ARBO 785.2, HI US', 2612),\n",
       " ('USC00514830', 'KUALOA RANCH HEADQUARTERS 886.9, HI US', 2202),\n",
       " ('USC00511918', 'HONOLULU OBSERVATORY 702.2, HI US', 1979),\n",
       " ('USC00517948', 'PEARL CITY, HI US', 1372),\n",
       " ('USC00518838', 'UPPER WAHIAWA 874.3, HI US', 511)]"
      ]
     },
     "execution_count": 192,
     "metadata": {},
     "output_type": "execute_result"
    }
   ],
   "source": [
    "# List the stations and the counts in descending order. \n",
    "    #sortby count (Descending)\n",
    "    #Samnple code: order_by(Emoji.score.desc()).all()\n",
    "\n",
    "stationnameuniquecountdesc = session.query(*station_name, func.count(Measurement.station))\\\n",
    ".filter(Measurement.station == Station.station)\\\n",
    ".group_by(Measurement.station)\\\n",
    ".order_by(func.count(Measurement.station).desc()).all()\n",
    "\n",
    "stationnameuniquecountdesc"
   ]
  },
  {
   "cell_type": "code",
   "execution_count": 193,
   "metadata": {},
   "outputs": [
    {
     "data": {
      "text/plain": [
       "('USC00519281', 'WAIHEE 837.5, HI US', 2772)"
      ]
     },
     "execution_count": 193,
     "metadata": {},
     "output_type": "execute_result"
    }
   ],
   "source": [
    "#  Which station has the highest number of observations\n",
    "stationnameuniquecountfirst = session.query(*station_name, func.count(Measurement.station))\\\n",
    ".filter(Measurement.station == Station.station)\\\n",
    ".group_by(Measurement.station)\\\n",
    ".order_by(func.count(Measurement.station).desc()).first()\n",
    "stationnameuniquecountfirst"
   ]
  },
  {
   "cell_type": "code",
   "execution_count": 194,
   "metadata": {},
   "outputs": [
    {
     "name": "stdout",
     "output_type": "stream",
     "text": [
      "The station with the highest number of observations (2772) is WAIHEE 837.5, HI US (USC00519281)\n"
     ]
    }
   ],
   "source": [
    "#Create variables for required elements of first station\n",
    "stationhighobs = stationnameuniquecountfirst[0]\n",
    "namehighobs = stationnameuniquecountfirst[1]\n",
    "obshigh = stationnameuniquecountfirst[2]\n",
    "\n",
    "print(f\"The station with the highest number of observations ({obshigh}) is {namehighobs} ({stationhighobs})\")"
   ]
  },
  {
   "cell_type": "code",
   "execution_count": 195,
   "metadata": {},
   "outputs": [
    {
     "name": "stdout",
     "output_type": "stream",
     "text": [
      "The lowest temperature recorded for WAIHEE 837.5, HI US station is 54.0\n"
     ]
    }
   ],
   "source": [
    "# Using the station id from the previous query, calculate the lowest temperature recorded, \n",
    "\n",
    "    #Set the columns required\n",
    "waiheetobs = [Measurement.station, Measurement.tobs]\n",
    "\n",
    "waiheelow = session.query(*waiheetobs, func.min(Measurement.tobs)).filter(Measurement.station==stationhighobs).all()\n",
    "\n",
    "print(f\"The lowest temperature recorded for {namehighobs} station is {waiheelow[0][1]}\")"
   ]
  },
  {
   "cell_type": "code",
   "execution_count": 196,
   "metadata": {},
   "outputs": [
    {
     "name": "stdout",
     "output_type": "stream",
     "text": [
      "The highest temperature recorded for WAIHEE 837.5, HI US station is 85.0\n"
     ]
    }
   ],
   "source": [
    "# highest temperature recorded\n",
    "waiheehigh = session.query(*waiheetobs, func.max(Measurement.tobs)).filter(Measurement.station==stationhighobs).all()\n",
    "\n",
    "print(f\"The highest temperature recorded for {namehighobs} station is {waiheehigh[0][1]}\")"
   ]
  },
  {
   "cell_type": "code",
   "execution_count": 197,
   "metadata": {},
   "outputs": [
    {
     "name": "stdout",
     "output_type": "stream",
     "text": [
      "The average temperature recorded for WAIHEE 837.5, HI US station is 70.0\n"
     ]
    }
   ],
   "source": [
    "# average temperature of the most active station?\n",
    "waiheemean = session.query(*waiheetobs, func.avg(Measurement.tobs)).filter(Measurement.station==stationhighobs).all()\n",
    "\n",
    "print(f\"The average temperature recorded for {namehighobs} station is {waiheemean[0][1]}\")"
   ]
  },
  {
   "cell_type": "markdown",
   "metadata": {},
   "source": [
    "### Design a query to retrieve the last 12 months of temperature observation data (TOBS)."
   ]
  },
  {
   "cell_type": "code",
   "execution_count": 198,
   "metadata": {},
   "outputs": [],
   "source": [
    "# Choose the station with the highest number of temperature observations.\n",
    "\n",
    "    #base columms\n",
    "stationtempobs = [Measurement.station, Station.name, Measurement.date, Measurement.tobs]\n"
   ]
  },
  {
   "cell_type": "code",
   "execution_count": 199,
   "metadata": {
    "scrolled": true
   },
   "outputs": [
    {
     "name": "stdout",
     "output_type": "stream",
     "text": [
      "19550\n"
     ]
    },
    {
     "data": {
      "text/plain": [
       "[('USC00519397', 'WAIKIKI 717.2, HI US', '2010-01-01', 65.0),\n",
       " ('USC00519397', 'WAIKIKI 717.2, HI US', '2010-01-02', 63.0),\n",
       " ('USC00519397', 'WAIKIKI 717.2, HI US', '2010-01-03', 74.0),\n",
       " ('USC00519397', 'WAIKIKI 717.2, HI US', '2010-01-04', 76.0),\n",
       " ('USC00519397', 'WAIKIKI 717.2, HI US', '2010-01-06', 73.0)]"
      ]
     },
     "execution_count": 199,
     "metadata": {},
     "output_type": "execute_result"
    }
   ],
   "source": [
    "    #This base query then reduces the above list to inlcude only rows were the filter is true\n",
    "stationtempobsjoin = session.query(*stationtempobs).filter(Measurement.station == Station.station).all()\n",
    "\n",
    "    #test data to see if matches counting all rows and elevant values\n",
    "print(len(stationtempobsjoin))\n",
    "stationtempobsjoin[:5]"
   ]
  },
  {
   "cell_type": "code",
   "execution_count": 200,
   "metadata": {},
   "outputs": [
    {
     "name": "stdout",
     "output_type": "stream",
     "text": [
      "The station with the highest number of temperature observations (2772) is WAIHEE 837.5, HI US (USC00519281)\n"
     ]
    }
   ],
   "source": [
    "#Query the station with the highest oberservation count\n",
    "stationtempobsmost = session.query(*stationtempobs, func.count(Measurement.station))\\\n",
    ".filter(Measurement.station == Station.station)\\\n",
    ".group_by(Measurement.station)\\\n",
    ".order_by(func.count(Measurement.station).desc()).first()\n",
    "\n",
    "\n",
    "stationtotalobs = stationtempobsmost[0]\n",
    "nametotalobs = stationtempobsmost[1]\n",
    "obstotalhgih = stationtempobsmost[4]\n",
    "\n",
    "print(f\"The station with the highest number of temperature observations ({obstotalhgih}) is {nametotalobs} ({stationtotalobs})\")"
   ]
  },
  {
   "cell_type": "code",
   "execution_count": 201,
   "metadata": {},
   "outputs": [
    {
     "name": "stdout",
     "output_type": "stream",
     "text": [
      "352\n"
     ]
    },
    {
     "data": {
      "text/plain": [
       "[('USC00519281', 'WAIHEE 837.5, HI US', '2016-08-23', 77.0),\n",
       " ('USC00519281', 'WAIHEE 837.5, HI US', '2016-08-24', 77.0),\n",
       " ('USC00519281', 'WAIHEE 837.5, HI US', '2016-08-25', 80.0),\n",
       " ('USC00519281', 'WAIHEE 837.5, HI US', '2016-08-26', 80.0),\n",
       " ('USC00519281', 'WAIHEE 837.5, HI US', '2016-08-27', 75.0),\n",
       " ('USC00519281', 'WAIHEE 837.5, HI US', '2016-08-28', 73.0),\n",
       " ('USC00519281', 'WAIHEE 837.5, HI US', '2016-08-29', 78.0),\n",
       " ('USC00519281', 'WAIHEE 837.5, HI US', '2016-08-30', 77.0),\n",
       " ('USC00519281', 'WAIHEE 837.5, HI US', '2016-08-31', 78.0),\n",
       " ('USC00519281', 'WAIHEE 837.5, HI US', '2016-09-01', 80.0)]"
      ]
     },
     "execution_count": 201,
     "metadata": {},
     "output_type": "execute_result"
    }
   ],
   "source": [
    "# Query the last 12 months of temperature observation data for this station and plot the results as a histogram\n",
    "    # Perform a query to retrieve the date and temperature scores\n",
    "waiheetempobs = session.query(*stationtempobs)\\\n",
    ".filter(Measurement.station == Station.station)\\\n",
    ".filter(Measurement.date >= '2016-08-23')\\\n",
    ".filter(Measurement.date <= '2017-08-23')\\\n",
    ".filter(Measurement.station==stationtotalobs)\n",
    "\n",
    "        #test data\n",
    "print(waiheetempobs.count())\n",
    "waiheetempobs[:10]"
   ]
  },
  {
   "cell_type": "code",
   "execution_count": 202,
   "metadata": {},
   "outputs": [
    {
     "data": {
      "text/html": [
       "<div>\n",
       "<style scoped>\n",
       "    .dataframe tbody tr th:only-of-type {\n",
       "        vertical-align: middle;\n",
       "    }\n",
       "\n",
       "    .dataframe tbody tr th {\n",
       "        vertical-align: top;\n",
       "    }\n",
       "\n",
       "    .dataframe thead th {\n",
       "        text-align: right;\n",
       "    }\n",
       "</style>\n",
       "<table border=\"1\" class=\"dataframe\">\n",
       "  <thead>\n",
       "    <tr style=\"text-align: right;\">\n",
       "      <th></th>\n",
       "      <th>Station ID</th>\n",
       "      <th>Station Name</th>\n",
       "      <th>Date</th>\n",
       "      <th>Temperature</th>\n",
       "    </tr>\n",
       "  </thead>\n",
       "  <tbody>\n",
       "    <tr>\n",
       "      <th>0</th>\n",
       "      <td>USC00519281</td>\n",
       "      <td>WAIHEE 837.5, HI US</td>\n",
       "      <td>2016-08-23</td>\n",
       "      <td>77.0</td>\n",
       "    </tr>\n",
       "    <tr>\n",
       "      <th>1</th>\n",
       "      <td>USC00519281</td>\n",
       "      <td>WAIHEE 837.5, HI US</td>\n",
       "      <td>2016-08-24</td>\n",
       "      <td>77.0</td>\n",
       "    </tr>\n",
       "    <tr>\n",
       "      <th>2</th>\n",
       "      <td>USC00519281</td>\n",
       "      <td>WAIHEE 837.5, HI US</td>\n",
       "      <td>2016-08-25</td>\n",
       "      <td>80.0</td>\n",
       "    </tr>\n",
       "    <tr>\n",
       "      <th>3</th>\n",
       "      <td>USC00519281</td>\n",
       "      <td>WAIHEE 837.5, HI US</td>\n",
       "      <td>2016-08-26</td>\n",
       "      <td>80.0</td>\n",
       "    </tr>\n",
       "    <tr>\n",
       "      <th>4</th>\n",
       "      <td>USC00519281</td>\n",
       "      <td>WAIHEE 837.5, HI US</td>\n",
       "      <td>2016-08-27</td>\n",
       "      <td>75.0</td>\n",
       "    </tr>\n",
       "    <tr>\n",
       "      <th>...</th>\n",
       "      <td>...</td>\n",
       "      <td>...</td>\n",
       "      <td>...</td>\n",
       "      <td>...</td>\n",
       "    </tr>\n",
       "    <tr>\n",
       "      <th>347</th>\n",
       "      <td>USC00519281</td>\n",
       "      <td>WAIHEE 837.5, HI US</td>\n",
       "      <td>2017-08-14</td>\n",
       "      <td>77.0</td>\n",
       "    </tr>\n",
       "    <tr>\n",
       "      <th>348</th>\n",
       "      <td>USC00519281</td>\n",
       "      <td>WAIHEE 837.5, HI US</td>\n",
       "      <td>2017-08-15</td>\n",
       "      <td>77.0</td>\n",
       "    </tr>\n",
       "    <tr>\n",
       "      <th>349</th>\n",
       "      <td>USC00519281</td>\n",
       "      <td>WAIHEE 837.5, HI US</td>\n",
       "      <td>2017-08-16</td>\n",
       "      <td>76.0</td>\n",
       "    </tr>\n",
       "    <tr>\n",
       "      <th>350</th>\n",
       "      <td>USC00519281</td>\n",
       "      <td>WAIHEE 837.5, HI US</td>\n",
       "      <td>2017-08-17</td>\n",
       "      <td>76.0</td>\n",
       "    </tr>\n",
       "    <tr>\n",
       "      <th>351</th>\n",
       "      <td>USC00519281</td>\n",
       "      <td>WAIHEE 837.5, HI US</td>\n",
       "      <td>2017-08-18</td>\n",
       "      <td>79.0</td>\n",
       "    </tr>\n",
       "  </tbody>\n",
       "</table>\n",
       "<p>352 rows × 4 columns</p>\n",
       "</div>"
      ],
      "text/plain": [
       "      Station ID         Station Name        Date  Temperature\n",
       "0    USC00519281  WAIHEE 837.5, HI US  2016-08-23         77.0\n",
       "1    USC00519281  WAIHEE 837.5, HI US  2016-08-24         77.0\n",
       "2    USC00519281  WAIHEE 837.5, HI US  2016-08-25         80.0\n",
       "3    USC00519281  WAIHEE 837.5, HI US  2016-08-26         80.0\n",
       "4    USC00519281  WAIHEE 837.5, HI US  2016-08-27         75.0\n",
       "..           ...                  ...         ...          ...\n",
       "347  USC00519281  WAIHEE 837.5, HI US  2017-08-14         77.0\n",
       "348  USC00519281  WAIHEE 837.5, HI US  2017-08-15         77.0\n",
       "349  USC00519281  WAIHEE 837.5, HI US  2017-08-16         76.0\n",
       "350  USC00519281  WAIHEE 837.5, HI US  2017-08-17         76.0\n",
       "351  USC00519281  WAIHEE 837.5, HI US  2017-08-18         79.0\n",
       "\n",
       "[352 rows x 4 columns]"
      ]
     },
     "execution_count": 202,
     "metadata": {},
     "output_type": "execute_result"
    }
   ],
   "source": [
    "# Save the query results as a Pandas DataFrame\n",
    "\n",
    "temp_df = pd.read_sql(waiheetempobs.statement,session.bind).rename(columns={\"station\":\"Station ID\",\n",
    "                                                                            \"name\":\"Station Name\", \n",
    "                                                                            \"date\":\"Date\", \n",
    "                                                                            \"tobs\":\"Temperature\"})\n",
    "\n",
    "temp_df"
   ]
  },
  {
   "cell_type": "code",
   "execution_count": 203,
   "metadata": {},
   "outputs": [],
   "source": [
    "#set the index to the date column\n",
    "#tempdate = temp_df.set_index(\"Date\")\n",
    "#tempdate"
   ]
  },
  {
   "cell_type": "code",
   "execution_count": 204,
   "metadata": {},
   "outputs": [],
   "source": [
    "# Sort the dataframe by date\n",
    "#tempdate = tempdate.sort_index()\n",
    "#tempdate"
   ]
  },
  {
   "cell_type": "code",
   "execution_count": 205,
   "metadata": {},
   "outputs": [
    {
     "data": {
      "image/png": "[encoded data removed]",
      "text/plain": [
       "<Figure size 864x432 with 1 Axes>"
      ]
     },
     "metadata": {},
     "output_type": "display_data"
    }
   ],
   "source": [
    "fig, ax = plt.subplots(figsize = (12,6))\n",
    "\n",
    "ax.hist(temp_df[\"Temperature\"], bins=12)\n",
    "ax.set_title(\"Temperatures Observations in Honolulu\")\n",
    "ax.set_xlabel(\"Temperature\")\n",
    "ax.set_ylabel(\"Frequency\")\n",
    "#plt.xticks(bins)\n",
    "\n",
    "plt.show()"
   ]
  },
  {
   "cell_type": "markdown",
   "metadata": {},
   "source": [
    "## Bonus Challenge Assignment"
   ]
  },
  {
   "cell_type": "markdown",
   "metadata": {},
   "source": [
    "### Temperature Analysis I\n",
    "Use the t-test to determine whether the difference in the mean temperatures for June and December, if any, is statistically significant.\n",
    "\n",
    "Will you use a paired t-test, or an unpaired t-test? Why?"
   ]
  },
  {
   "cell_type": "code",
   "execution_count": 206,
   "metadata": {},
   "outputs": [],
   "source": [
    "#Function to createa list of temps per month\n",
    "def monthtemps(month):\n",
    "\n",
    "    return session.query((Measurement.tobs))\\\n",
    "                         .filter(func.strftime(\"%m\", Measurement.date) == month).all()"
   ]
  },
  {
   "cell_type": "code",
   "execution_count": 207,
   "metadata": {},
   "outputs": [
    {
     "name": "stdout",
     "output_type": "stream",
     "text": [
      "1700\n",
      "[(78.0,), (76.0,), (78.0,), (76.0,), (77.0,), (78.0,), (77.0,), (78.0,), (78.0,), (79.0,)]\n"
     ]
    }
   ],
   "source": [
    "junetemps = monthtemps('06')\n",
    "print(len(junetemps))\n",
    "print(junetemps[0:10])"
   ]
  },
  {
   "cell_type": "code",
   "execution_count": 225,
   "metadata": {},
   "outputs": [
    {
     "data": {
      "text/plain": [
       "array([[78.],\n",
       "       [76.],\n",
       "       [78.],\n",
       "       ...,\n",
       "       [74.],\n",
       "       [76.],\n",
       "       [75.]])"
      ]
     },
     "execution_count": 225,
     "metadata": {},
     "output_type": "execute_result"
    }
   ],
   "source": [
    "np.array(junetemps)"
   ]
  },
  {
   "cell_type": "code",
   "execution_count": 208,
   "metadata": {},
   "outputs": [
    {
     "name": "stdout",
     "output_type": "stream",
     "text": [
      "1517\n",
      "[(76.0,), (74.0,), (74.0,), (64.0,), (64.0,), (67.0,), (77.0,), (66.0,), (69.0,), (68.0,)]\n"
     ]
    }
   ],
   "source": [
    "dectemps = monthtemps('12')\n",
    "print(len(dectemps))\n",
    "print(dectemps[0:10])"
   ]
  },
  {
   "cell_type": "code",
   "execution_count": 209,
   "metadata": {},
   "outputs": [],
   "source": [
    "#identify the average temperature in June at all stations across all available years in the dataset. \n",
    "\n",
    "#function to calculate average for a particluar month with entire dataset\n",
    "def avgtemp(month):\n",
    "\n",
    "    return session.query(func.avg(Measurement.tobs))\\\n",
    "                         .filter(func.strftime(\"%m\", Measurement.date) == month).all()"
   ]
  },
  {
   "cell_type": "code",
   "execution_count": 210,
   "metadata": {},
   "outputs": [
    {
     "name": "stdout",
     "output_type": "stream",
     "text": [
      "The average temperature for the June measurements is 74.94411764705882.\n"
     ]
    }
   ],
   "source": [
    "#Average June temp\n",
    "juneavg = avgtemp('06')\n",
    "print(f\"The average temperature for the June measurements is {juneavg[0][0]}.\")"
   ]
  },
  {
   "cell_type": "code",
   "execution_count": 211,
   "metadata": {},
   "outputs": [
    {
     "name": "stdout",
     "output_type": "stream",
     "text": [
      "The average temperature for the December measurements is 71.04152933421226.\n"
     ]
    }
   ],
   "source": [
    "#Average Dec temp\n",
    "decavg = avgtemp('12')\n",
    "print(f\"The average temperature for the December measurements is {decavg[0][0]}.\")"
   ]
  },
  {
   "cell_type": "markdown",
   "metadata": {},
   "source": [
    "#### Hypothesis\n",
    "\n",
    "* Null hypothesis - If average monthly temperature in Hawaii is not related to the time of the year (winter months versus summer months in the northen hemisphere), then December will show no significant difference in its average temperature compared to June.\n",
    "\n",
    "* Alternative hypothesis - If average monthly temperature in Hawaii is related to the time of the year (winter months versus summer months in the northen hemisphere), then December will result in significant difference in its avearge temperature compared to June.\n",
    "\n",
    "#### Which t-test to use\n",
    "Research:\n",
    "* https://blog.minitab.com/en/adventures-in-statistics-2/understanding-t-tests-1-sample-2-sample-and-paired-t-tests\n",
    "* https://www.marsja.se/how-to-perform-a-two-sample-t-test-with-python-3-different-methods/\n",
    "* https://www.marsja.se/how-to-use-python-to-perform-a-paired-sample-t-test/ \n",
    "\n",
    "\n",
    "As a paired t-test is used to measure the “before” and “after” data values of the same group, with an intervention in between them, and include a randomly selected sample from the population, I feel the paired t-test is not the the approrpate measure of statistical signifigance. \n",
    "\n",
    "The unpaired (2-sample) t-test is used to specifically compare the averages of two independnat data sets. Therefore would be ideal in this scenario."
   ]
  },
  {
   "cell_type": "markdown",
   "metadata": {},
   "source": [
    "# Unpaired T-Test\n",
    "\n",
    "Independent t-tests will compare the means of 2 independent populations.\n",
    "\n",
    "### Assumptions\n",
    "\n",
    "1. Data is normally distributed\n",
    "2. Data is independent\n",
    "3. Data is homogenous (The standard deviations are roughly equal)"
   ]
  },
  {
   "cell_type": "code",
   "execution_count": 236,
   "metadata": {},
   "outputs": [
    {
     "data": {
      "image/png": "[encoded data removed]",
      "text/plain": [
       "<Figure size 432x288 with 1 Axes>"
      ]
     },
     "metadata": {},
     "output_type": "display_data"
    }
   ],
   "source": [
    "# Scatter Plot of Data\n",
    "plt.subplot(2, 1, 1)\n",
    "plt.scatter(range(len(junetemps)), np.array(junetemps), label=\"June\")\n",
    "plt.scatter(range(len(dectemps)), np.array(dectemps), label=\"December\")\n",
    "plt.title(\"Temperature observations for Honolulu, Hawaii\", fontsize=15)\n",
    "plt.xlabel('Observartions', fontsize=10)\n",
    "plt.ylabel('Temperature', fontsize=10)\n",
    "plt.legend(loc=1)\n",
    "\n",
    "plt.show()"
   ]
  },
  {
   "cell_type": "code",
   "execution_count": 246,
   "metadata": {},
   "outputs": [
    {
     "data": {
      "text/plain": [
       "<matplotlib.legend.Legend at 0x7fb73de2b400>"
      ]
     },
     "execution_count": 246,
     "metadata": {},
     "output_type": "execute_result"
    },
    {
     "data": {
      "image/png": "[encoded data removed]",
      "text/plain": [
       "<Figure size 432x288 with 1 Axes>"
      ]
     },
     "metadata": {},
     "output_type": "display_data"
    }
   ],
   "source": [
    "# Histogram Plot of Data\n",
    "plt.subplot(2, 1, 1)\n",
    "plt.hist(np.array(junetemps), 20, alpha=0.7, label=\"June\")\n",
    "plt.hist(np.array(dectemps), 20, alpha=0.7, label=\"December\")\n",
    "plt.axvline(juneavg, color='k', linestyle='dashed', linewidth=1)\n",
    "plt.axvline(decavg, color='k', linestyle='dashed', linewidth=1)\n",
    "plt.legend()  "
   ]
  },
  {
   "cell_type": "code",
   "execution_count": 262,
   "metadata": {},
   "outputs": [
    {
     "data": {
      "text/plain": [
       "Ttest_indResult(statistic=array([31.35503692]), pvalue=array([4.19352984e-187]))"
      ]
     },
     "execution_count": 262,
     "metadata": {},
     "output_type": "execute_result"
    }
   ],
   "source": [
    "# Two-sample t-test in Python using SciPy:\n",
    "# Note: The histogram indicates that the data sets fo not have equal variance.\n",
    "# Therefor, setting equal_var=False performs Welch's t-test which does not assume equal population variance\n",
    "\n",
    "ttest = stats.ttest_ind(junetemps, dectemps, equal_var=False)\n",
    "\n",
    "ttest\n"
   ]
  },
  {
   "cell_type": "code",
   "execution_count": null,
   "metadata": {},
   "outputs": [],
   "source": [
    "less than the significance level alpha (e.g., 0.05)\n",
    "that we can conclude that the men’s average height is statistically different from the female’s average height. "
   ]
  },
  {
   "cell_type": "markdown",
   "metadata": {},
   "source": [
    "### Temperature Analysis II\n",
    "Use the `calc_temps` function to calculate the min, avg, and max temperatures for your trip using the matching dates from the previous year"
   ]
  },
  {
   "cell_type": "code",
   "execution_count": null,
   "metadata": {},
   "outputs": [],
   "source": [
    "# This function called `calc_temps` will accept start date and end date in the format '%Y-%m-%d' \n",
    "# and return the minimum, average, and maximum temperatures for that range of dates\n",
    "def calc_temps(start_date, end_date):\n",
    "#    \"\"\"TMIN, TAVG, and TMAX for a list of dates.\n",
    "#    \n",
    "#    Args:\n",
    "#        start_date (string): A date string in the format %Y-%m-%d\n",
    "#        end_date (string): A date string in the format %Y-%m-%d\n",
    "#        \n",
    "#    Returns:\n",
    "#        TMIN, TAVE, and TMAX\n",
    "#    \"\"\"\n",
    "    \n",
    "    return session.query(func.min(Measurement.tobs), func.avg(Measurement.tobs), func.max(Measurement.tobs)).\\\n",
    "        filter(Measurement.date >= start_date).filter(Measurement.date <= end_date).all()\n",
    "\n",
    "# function usage example\n",
    "print(calc_temps('2012-02-28', '2012-03-05'))"
   ]
  },
  {
   "cell_type": "code",
   "execution_count": null,
   "metadata": {},
   "outputs": [],
   "source": []
  },
  {
   "cell_type": "code",
   "execution_count": null,
   "metadata": {},
   "outputs": [],
   "source": [
    "# Use your previous function `calc_temps` to calculate the tmin, tavg, and tmax \n",
    "    #Define trip dates - accept date input in australian date format\n",
    "    #https://www.tutorialspoint.com/How-to-convert-Python-date-string-mm-dd-yyyy-to-datetime\n",
    "    #https://thispointer.com/python-how-to-convert-datetime-object-to-string-using-datetime-strftime/\n",
    "\n",
    "vacationstart = '25/05/2017'\n",
    "vacationend = '3/06/2017'\n",
    "\n",
    "#convert to datetime string\n",
    "#startdt = (dt.datetime.strptime(holidaystart, '%d/%m/%Y')).strftime(\"%Y-%m-%d\")\n",
    "#enddt = (dt.datetime.strptime(vacationend, '%d/%m/%Y')).strftime(\"%Y-%m-%d\")\n",
    "\n",
    "\n"
   ]
  },
  {
   "cell_type": "code",
   "execution_count": null,
   "metadata": {},
   "outputs": [],
   "source": [
    "#convert to datetime\n",
    "startdt = dt.datetime.strptime(vacationstart, '%d/%m/%Y')\n",
    "enddt = dt.datetime.strptime(vacationend, '%d/%m/%Y')\n",
    "\n",
    "\n",
    "print(f\"The vacation dates are from {startdt.date()} to {enddt.date()}.\")"
   ]
  },
  {
   "cell_type": "code",
   "execution_count": null,
   "metadata": {},
   "outputs": [],
   "source": [
    "    #Calculate start and end dates for the previous year\n",
    "start_date = startdt - dt.timedelta(days=365)\n",
    "end_date = enddt - dt.timedelta(days=365)\n",
    "#year_ago = dt.date(2017,8,23) - dt.timedelta(days=365)\n",
    "\n",
    "print(f\"The query dates are from {start_date.date()} to {end_date.date()}.\")\n"
   ]
  },
  {
   "cell_type": "code",
   "execution_count": null,
   "metadata": {},
   "outputs": [],
   "source": [
    "# for your trip using the previous year's data for those same dates.\n",
    "    #test data\n",
    "\n",
    "#print(calc_temps('2016-05-25', '2016-06-03'))"
   ]
  },
  {
   "cell_type": "code",
   "execution_count": null,
   "metadata": {},
   "outputs": [],
   "source": [
    "# for your trip using the previous year's data for those same dates.\n",
    "        #test data\n",
    "print(calc_temps(start_date.date(), end_date.date()))"
   ]
  },
  {
   "cell_type": "code",
   "execution_count": null,
   "metadata": {},
   "outputs": [],
   "source": [
    "tempsummary = (calc_temps(start_date.date(), end_date.date()))\n",
    "print(f\"For the dates {start_date.date()} to {end_date.date()}, the minimum temperature is {tempsummary[0][0]}, the average is {tempsummary[0][1]} and the maximum is {tempsummary[0][2]}.\")"
   ]
  },
  {
   "cell_type": "code",
   "execution_count": null,
   "metadata": {},
   "outputs": [],
   "source": [
    "    #Query prevous year\n",
    "#start_date = dt.datetime(holidaystart) - dt.timedelta(days=365)\n",
    "#end_date = dt.date(vacationend) - dt.timedelta(days=365)\n",
    "\n",
    "\n",
    "#start_date\n",
    "\n",
    "\n",
    "\n",
    "\n",
    "\n",
    "\n",
    "#start_date= dt.datetime.strptime(start, '%Y-%m-%d')\n",
    "#    last_year = dt.timedelta(days=365)\n",
    "#   start = start_date-last_year\n",
    "#    end =  dt.date(2017, 8, 23"
   ]
  },
  {
   "cell_type": "code",
   "execution_count": null,
   "metadata": {},
   "outputs": [],
   "source": [
    "# Plot the results from your previous query as a bar chart. \n",
    "# Use \"Trip Avg Temp\" as your Title\n",
    "# Use the average temperature for the y value\n",
    "# Use the peak-to-peak (tmax-tmin) value as the y error bar (yerr)\n"
   ]
  },
  {
   "cell_type": "code",
   "execution_count": null,
   "metadata": {},
   "outputs": [],
   "source": [
    "# Calculate the total amount of rainfall per weather station for your trip dates using the previous year's matching dates.\n",
    "# Sort this in descending order by precipitation amount and list the station, name, latitude, longitude, and elevation\n",
    "\n"
   ]
  },
  {
   "cell_type": "code",
   "execution_count": null,
   "metadata": {},
   "outputs": [],
   "source": [
    "# Create a query that will calculate the daily normals \n",
    "# (i.e. the averages for tmin, tmax, and tavg for all historic data matching a specific month and day)\n",
    "\n",
    "def daily_normals(date):\n",
    "    \"\"\"Daily Normals.\n",
    "    \n",
    "    Args:\n",
    "        date (str): A date string in the format '%m-%d'\n",
    "        \n",
    "    Returns:\n",
    "        A list of tuples containing the daily normals, tmin, tavg, and tmax\n",
    "    \n",
    "    \"\"\"\n",
    "    \n",
    "    sel = [func.min(Measurement.tobs), func.avg(Measurement.tobs), func.max(Measurement.tobs)]\n",
    "    return session.query(*sel).filter(func.strftime(\"%m-%d\", Measurement.date) == date).all()\n",
    "    \n",
    "daily_normals(\"01-01\")"
   ]
  },
  {
   "cell_type": "code",
   "execution_count": null,
   "metadata": {},
   "outputs": [],
   "source": [
    "# calculate the daily normals for your trip\n",
    "# push each tuple of calculations into a list called `normals`\n",
    "\n",
    "# Set the start and end date of the trip\n",
    "\n",
    "# Use the start and end date to create a range of dates\n",
    "\n",
    "# Stip off the year and save a list of %m-%d strings\n",
    "\n",
    "# Loop through the list of %m-%d strings and calculate the normals for each date\n"
   ]
  },
  {
   "cell_type": "code",
   "execution_count": null,
   "metadata": {},
   "outputs": [],
   "source": [
    "# Load the previous query results into a Pandas DataFrame and add the `trip_dates` range as the `date` index\n"
   ]
  },
  {
   "cell_type": "code",
   "execution_count": null,
   "metadata": {},
   "outputs": [],
   "source": [
    "# Plot the daily normals as an area plot with `stacked=False`\n"
   ]
  },
  {
   "cell_type": "code",
   "execution_count": null,
   "metadata": {},
   "outputs": [],
   "source": [
    "#Do something to close session\n",
    "session.close()"
   ]
  }
 ],
 "metadata": {
  "kernel_info": {
   "name": "python3"
  },
  "kernelspec": {
   "display_name": "Python 3",
   "language": "python",
   "name": "python3"
  },
  "language_info": {
   "codemirror_mode": {
    "name": "ipython",
    "version": 3
   },
   "file_extension": ".py",
   "mimetype": "text/x-python",
   "name": "python",
   "nbconvert_exporter": "python",
   "pygments_lexer": "ipython3",
   "version": "3.6.10"
  },
  "nteract": {
   "version": "0.12.3"
  },
  "varInspector": {
   "cols": {
    "lenName": 16,
    "lenType": 16,
    "lenVar": 40
   },
   "kernels_config": {
    "python": {
     "delete_cmd_postfix": "",
     "delete_cmd_prefix": "del ",
     "library": "var_list.py",
     "varRefreshCmd": "print(var_dic_list())"
    },
    "r": {
     "delete_cmd_postfix": ") ",
     "delete_cmd_prefix": "rm(",
     "library": "var_list.r",
     "varRefreshCmd": "cat(var_dic_list()) "
    }
   },
   "types_to_exclude": [
    "module",
    "function",
    "builtin_function_or_method",
    "instance",
    "_Feature"
   ],
   "window_display": false
  }
 },
 "nbformat": 4,
 "nbformat_minor": 2
}
